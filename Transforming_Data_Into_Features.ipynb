{
 "cells": [
  {
   "cell_type": "markdown",
   "id": "b02f10ed",
   "metadata": {},
   "source": [
    "### Transforming Data into Features\n",
    "\n",
    "You are a data scientist at a clothing company and are working with a data set of customer reviews. This dataset is originally from Kaggle and has a lot of potential for various machine learning purposes. You are tasked with transforming some of these features to make the data more useful for analysis. To do this, you will have time to practice the following:\n",
    "\n",
    "* Transforming categorical data\n",
    "* Scaling your data\n",
    "* Working with date-time features\n",
    "\n",
    "Let’s get started!"
   ]
  },
  {
   "cell_type": "markdown",
   "id": "84e1c1d3",
   "metadata": {},
   "source": [
    "Let’s start with some basic exploring by performing the following:\n",
    "\n",
    "First, import your dataset. "
   ]
  },
  {
   "cell_type": "code",
   "execution_count": 2,
   "id": "cad4d157",
   "metadata": {},
   "outputs": [],
   "source": [
    "#import libraries\n",
    "import pandas as pd\n",
    "import numpy as np\n",
    "from sklearn.preprocessing import StandardScaler\n",
    "\n",
    "#import data\n",
    "reviews = pd.read_csv(\"reviews.csv\")"
   ]
  },
  {
   "cell_type": "markdown",
   "id": "ee6c8b72",
   "metadata": {},
   "source": [
    "Next, we want to look at the column names of our dataset along with their data types."
   ]
  },
  {
   "cell_type": "code",
   "execution_count": 3,
   "id": "fab9b385",
   "metadata": {},
   "outputs": [
    {
     "name": "stdout",
     "output_type": "stream",
     "text": [
      "Index(['clothing_id', 'age', 'review_title', 'review_text', 'recommended',\n",
      "       'division_name', 'department_name', 'review_date', 'rating'],\n",
      "      dtype='object')\n",
      "<class 'pandas.core.frame.DataFrame'>\n",
      "RangeIndex: 5000 entries, 0 to 4999\n",
      "Data columns (total 9 columns):\n",
      " #   Column           Non-Null Count  Dtype \n",
      "---  ------           --------------  ----- \n",
      " 0   clothing_id      5000 non-null   int64 \n",
      " 1   age              5000 non-null   int64 \n",
      " 2   review_title     4174 non-null   object\n",
      " 3   review_text      4804 non-null   object\n",
      " 4   recommended      5000 non-null   bool  \n",
      " 5   division_name    4996 non-null   object\n",
      " 6   department_name  4996 non-null   object\n",
      " 7   review_date      5000 non-null   object\n",
      " 8   rating           5000 non-null   object\n",
      "dtypes: bool(1), int64(2), object(6)\n",
      "memory usage: 317.5+ KB\n",
      "None\n"
     ]
    }
   ],
   "source": [
    "#print column names\n",
    "print(reviews.columns)\n",
    " \n",
    "#print .info\n",
    "print(reviews.info())"
   ]
  },
  {
   "cell_type": "markdown",
   "id": "14b52da9",
   "metadata": {},
   "source": [
    "#### Data Transformations\n",
    "\n",
    "Transform the recommended feature. "
   ]
  },
  {
   "cell_type": "code",
   "execution_count": 4,
   "id": "ef3f2b5a",
   "metadata": {},
   "outputs": [
    {
     "name": "stdout",
     "output_type": "stream",
     "text": [
      "True     4166\n",
      "False     834\n",
      "Name: recommended, dtype: int64\n"
     ]
    }
   ],
   "source": [
    "#look at the counts of recommended\n",
    "print(reviews.recommended.value_counts())"
   ]
  },
  {
   "cell_type": "markdown",
   "id": "25c955ca",
   "metadata": {},
   "source": [
    "Since this is a True/False feature, we want to transform it to 1 for True and 0 for False."
   ]
  },
  {
   "cell_type": "code",
   "execution_count": 5,
   "id": "38e3d6b7",
   "metadata": {},
   "outputs": [
    {
     "name": "stdout",
     "output_type": "stream",
     "text": [
      "1    4166\n",
      "0     834\n",
      "Name: recommended, dtype: int64\n"
     ]
    }
   ],
   "source": [
    "#create binary dictionary\n",
    "binary_dict = {True:1, False:0}\n",
    " \n",
    "#transform column\n",
    "reviews.recommended = reviews.recommended.map(binary_dict)\n",
    " \n",
    "#print your transformed column\n",
    "print(reviews.recommended.value_counts())"
   ]
  },
  {
   "cell_type": "markdown",
   "id": "a62fb95e",
   "metadata": {},
   "source": [
    "Let’s run through a similar process to transform the rating feature. This is ordinal data so our transformation should make that more clear. Assign numerical values to the ratings."
   ]
  },
  {
   "cell_type": "code",
   "execution_count": 6,
   "id": "d96b7eb8",
   "metadata": {},
   "outputs": [
    {
     "name": "stdout",
     "output_type": "stream",
     "text": [
      "Loved it     2798\n",
      "Liked it     1141\n",
      "Was okay      564\n",
      "Not great     304\n",
      "Hated it      193\n",
      "Name: rating, dtype: int64\n",
      "5    2798\n",
      "4    1141\n",
      "3     564\n",
      "2     304\n",
      "1     193\n",
      "Name: rating, dtype: int64\n"
     ]
    }
   ],
   "source": [
    "#look at the counts of rating\n",
    "print(reviews.rating.value_counts())\n",
    " \n",
    "#create dictionary\n",
    "rating_dict = {'Loved it': 5, 'Liked it': 4, 'Was okay': 3, 'Not great': 2, 'Hated it': 1}\n",
    " \n",
    "#transform rating column\n",
    "reviews.rating = reviews.rating.map(rating_dict)\n",
    " \n",
    "#print your transformed column values\n",
    "print(reviews.rating.value_counts())"
   ]
  },
  {
   "cell_type": "markdown",
   "id": "2ee32320",
   "metadata": {},
   "source": [
    "Let’s now transform the department_name feature. To encode those names we will use *One Hot Encoding*"
   ]
  },
  {
   "cell_type": "code",
   "execution_count": 7,
   "id": "0775a280",
   "metadata": {},
   "outputs": [
    {
     "name": "stdout",
     "output_type": "stream",
     "text": [
      "Tops        2196\n",
      "Dresses     1322\n",
      "Bottoms      848\n",
      "Intimate     378\n",
      "Jackets      224\n",
      "Trend         28\n",
      "Name: department_name, dtype: int64\n",
      "Index(['clothing_id', 'age', 'review_title', 'review_text', 'recommended',\n",
      "       'division_name', 'department_name', 'review_date', 'rating', 'Bottoms',\n",
      "       'Dresses', 'Intimate', 'Jackets', 'Tops', 'Trend'],\n",
      "      dtype='object')\n"
     ]
    }
   ],
   "source": [
    "#get the number of categories in a feature\n",
    "print(reviews.department_name.value_counts())\n",
    " \n",
    "#perform get_dummies\n",
    "one_hot = pd.get_dummies(reviews.department_name)\n",
    "\n",
    "#join the new columns back onto the original\n",
    "reviews = reviews.join(one_hot)\n",
    "\n",
    "#print column names\n",
    "print(reviews.columns)"
   ]
  },
  {
   "cell_type": "markdown",
   "id": "5bd21b18",
   "metadata": {},
   "source": [
    "Let’s make one more feature transformation! Transform the review_date feature. Make it as date-time feature."
   ]
  },
  {
   "cell_type": "code",
   "execution_count": 8,
   "id": "be2bea03",
   "metadata": {},
   "outputs": [
    {
     "name": "stdout",
     "output_type": "stream",
     "text": [
      "datetime64[ns]\n"
     ]
    }
   ],
   "source": [
    "#transform review_date to date-time data\n",
    "reviews.review_date = pd.to_datetime(reviews.review_date)\n",
    "\n",
    "#print review_date data type \n",
    "print(reviews.review_date.dtypes)"
   ]
  },
  {
   "cell_type": "markdown",
   "id": "8cb011c2",
   "metadata": {},
   "source": [
    "#### Scaling the Data\n",
    "\n",
    "The final step we will take in our transformation project is scaling our data. We notice that we have a wide range of numbers thus far, so it is best to put everything on the same scale.\n",
    "\n",
    "Let’s get our data frame to only have the numerical features we created."
   ]
  },
  {
   "cell_type": "code",
   "execution_count": 9,
   "id": "dfe4d454",
   "metadata": {},
   "outputs": [
    {
     "name": "stdout",
     "output_type": "stream",
     "text": [
      "             age  recommended  rating  Bottoms  Dresses  Intimate  Jackets  \\\n",
      "clothing_id                                                                  \n",
      "1095          39            1       4        0        1         0        0   \n",
      "1095          28            1       5        0        1         0        0   \n",
      "699           37            1       5        0        0         1        0   \n",
      "1072          36            1       5        0        1         0        0   \n",
      "1094          32            1       5        0        1         0        0   \n",
      "\n",
      "             Tops  Trend  \n",
      "clothing_id               \n",
      "1095            0      0  \n",
      "1095            0      0  \n",
      "699             0      0  \n",
      "1072            0      0  \n",
      "1094            0      0  \n",
      "[[-0.34814459  0.44742824 -0.1896478  ... -0.21656679 -0.88496718\n",
      "  -0.07504356]\n",
      " [-1.24475223  0.44742824  0.71602461 ... -0.21656679 -0.88496718\n",
      "  -0.07504356]\n",
      " [-0.51116416  0.44742824  0.71602461 ... -0.21656679 -0.88496718\n",
      "  -0.07504356]\n",
      " ...\n",
      " [-0.59267395  0.44742824  0.71602461 ... -0.21656679 -0.88496718\n",
      "  -0.07504356]\n",
      " [-1.24475223  0.44742824  0.71602461 ... -0.21656679 -0.88496718\n",
      "  -0.07504356]\n",
      " [ 1.68960003  0.44742824  0.71602461 ... -0.21656679  1.12998541\n",
      "  -0.07504356]]\n"
     ]
    }
   ],
   "source": [
    "#get only numerical columns from our existing dataframe\n",
    "reviews = reviews[['clothing_id', 'age', 'recommended', 'rating', 'Bottoms', 'Dresses', 'Intimate', 'Jackets', 'Tops', 'Trend']].copy()\n",
    " \n",
    "#reset index\n",
    "reviews = reviews.set_index('clothing_id')\n",
    "print(reviews.head())\n",
    "#instantiate standard scaler\n",
    "scaler = StandardScaler()\n",
    " \n",
    "#fit transform data\n",
    "reviews_scaled = scaler.fit_transform(reviews)\n",
    "print(reviews_scaled)"
   ]
  }
 ],
 "metadata": {
  "kernelspec": {
   "display_name": "Python 3 (ipykernel)",
   "language": "python",
   "name": "python3"
  },
  "language_info": {
   "codemirror_mode": {
    "name": "ipython",
    "version": 3
   },
   "file_extension": ".py",
   "mimetype": "text/x-python",
   "name": "python",
   "nbconvert_exporter": "python",
   "pygments_lexer": "ipython3",
   "version": "3.9.7"
  }
 },
 "nbformat": 4,
 "nbformat_minor": 5
}
